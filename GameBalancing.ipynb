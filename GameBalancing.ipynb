{
 "cells": [
  {
   "cell_type": "code",
   "execution_count": null,
   "metadata": {
    "executionInfo": {
     "elapsed": 6,
     "status": "ok",
     "timestamp": 1746832594993,
     "user": {
      "displayName": "Omi Goog",
      "userId": "07611855531462508215"
     },
     "user_tz": -60
    },
    "id": "dlld5tVsp8bx"
   },
   "outputs": [],
   "source": [
    "import random\n",
    "import numpy as np\n",
    "import matplotlib.pyplot as plt\n",
    "from ipywidgets import interact, IntSlider"
   ]
  },
  {
   "cell_type": "code",
   "execution_count": null,
   "metadata": {
    "executionInfo": {
     "elapsed": 58,
     "status": "ok",
     "timestamp": 1746832595052,
     "user": {
      "displayName": "Omi Goog",
      "userId": "07611855531462508215"
     },
     "user_tz": -60
    },
    "id": "7uqVfEuZnmOK"
   },
   "outputs": [],
   "source": [
    "class Team:\n",
    "    def __init__(self, name, units):\n",
    "        self.name = name\n",
    "        self.units = units"
   ]
  },
  {
   "cell_type": "code",
   "execution_count": null,
   "metadata": {
    "executionInfo": {
     "elapsed": 2,
     "status": "ok",
     "timestamp": 1746832595055,
     "user": {
      "displayName": "Omi Goog",
      "userId": "07611855531462508215"
     },
     "user_tz": -60
    },
    "id": "B-pQlGYxqWTH"
   },
   "outputs": [],
   "source": [
    "class Unit:\n",
    "    def __init__(self, name, initiative, strength, armour, health):\n",
    "        self.name = name\n",
    "        self.initiative = initiative\n",
    "        self.strength = strength\n",
    "        self.armour = armour\n",
    "        self.current_health = health\n",
    "        self.health = health\n",
    "\n",
    "    def reset(self):\n",
    "        self.current_health = self.health"
   ]
  },
  {
   "cell_type": "code",
   "execution_count": null,
   "metadata": {
    "executionInfo": {
     "elapsed": 0,
     "status": "ok",
     "timestamp": 1746832595056,
     "user": {
      "displayName": "Omi Goog",
      "userId": "07611855531462508215"
     },
     "user_tz": -60
    },
    "id": "I1AN6mk7pBK5"
   },
   "outputs": [],
   "source": [
    "def faceoff_phase(team_a, team_b):\n",
    "    roll_a = 0\n",
    "    roll_b = 0\n",
    "\n",
    "    for unit in team_a.units:\n",
    "        roll = random.randint(1, 6) + unit.initiative\n",
    "        if roll > roll_a:\n",
    "            roll_a = roll\n",
    "\n",
    "    for unit in team_b.units:\n",
    "        roll = random.randint(1, 6) + unit.initiative\n",
    "        if roll > roll_b:\n",
    "            roll_b = roll\n",
    "\n",
    "    # Resolve ties with roll-offs\n",
    "    if roll_a == roll_b:\n",
    "        roll = random.randint(1, 6)\n",
    "        if roll <= 3:\n",
    "            roll_a = 6\n",
    "            roll_b = 1\n",
    "        else:\n",
    "            roll_a = 1\n",
    "            roll_b = 6\n",
    "\n",
    "    #Result\n",
    "    if roll_a > roll_b:\n",
    "        return True\n",
    "    else:\n",
    "        return False"
   ]
  },
  {
   "cell_type": "code",
   "execution_count": null,
   "metadata": {
    "executionInfo": {
     "elapsed": 0,
     "status": "ok",
     "timestamp": 1746832595057,
     "user": {
      "displayName": "Omi Goog",
      "userId": "07611855531462508215"
     },
     "user_tz": -60
    },
    "id": "zxl2NOEXyGiV"
   },
   "outputs": [],
   "source": [
    "def strike_phase(team_a, team_b, winner):\n",
    "    if winner == False:\n",
    "        return 1.\n",
    "\n",
    "    for attacker in team_a.units:\n",
    "        # Filter out defeated units\n",
    "        alive_defenders = [unit for unit in team_b.units if unit.current_health > 0]\n",
    "        if not alive_defenders:\n",
    "            break  # All defenders are down\n",
    "\n",
    "        #Grab first defender\n",
    "        defender = alive_defenders[0]\n",
    "\n",
    "        #Just chek incase the roll is impossible\n",
    "        if attacker.strength + 6 <= defender.armour:\n",
    "            _rand = 10\n",
    "            roll = random.randint(1, _rand)\n",
    "            if roll == _rand:\n",
    "                defender.current_health -= 1\n",
    "        else:\n",
    "            #Do the roll\n",
    "            roll = random.randint(1, 6) + attacker.strength\n",
    "            if roll > defender.armour:\n",
    "                defender.current_health -= 1\n",
    "\n",
    "    # Calculate health ratio of losing team\n",
    "    current_health = sum(unit.current_health for unit in team_b.units)\n",
    "    total_health = sum(unit.health for unit in team_b.units)\n",
    "    return current_health / total_health"
   ]
  },
  {
   "cell_type": "code",
   "execution_count": null,
   "metadata": {
    "executionInfo": {
     "elapsed": 1,
     "status": "ok",
     "timestamp": 1746832595058,
     "user": {
      "displayName": "Omi Goog",
      "userId": "07611855531462508215"
     },
     "user_tz": -60
    },
    "id": "Dsf6XDzFwAyL"
   },
   "outputs": [],
   "source": [
    "# Monte Carlo simulation\n",
    "def monte_carlo_simulation(initiative=5, strength=5, armour=10, health=1, trials=1000):\n",
    "    team1_unit = Unit(name=\"Red Warrior\", initiative=initiative, strength=strength, armour=5, health=health)\n",
    "    team2_unit = Unit(name=\"Blue Knight\", initiative=5, strength=5, armour=armour, health=1)\n",
    "\n",
    "    team1 = Team(\"Team 1\", [team1_unit])\n",
    "    team2 = Team(\"Team 2\", [team2_unit])\n",
    "\n",
    "    zero_count = 0\n",
    "    for _ in range(trials):\n",
    "        # Reset health\n",
    "        for unit in team1.units:\n",
    "            unit.reset()\n",
    "        for unit in team2.units:\n",
    "            unit.reset()\n",
    "\n",
    "        winner = faceoff_phase(team1, team2)\n",
    "        result = strike_phase(team1, team2, winner)\n",
    "\n",
    "        if result == 0:\n",
    "            zero_count += 1\n",
    "\n",
    "    return (zero_count / trials) * 100"
   ]
  },
  {
   "cell_type": "code",
   "execution_count": null,
   "metadata": {
    "colab": {
     "base_uri": "https://localhost:8080/",
     "height": 733,
     "referenced_widgets": [
      "690a67dc1d564dd8b8747246ec637544",
      "9ae239814f0741518965abd4333b9426",
      "0e0cf46ac4594224809466f7764cf42f",
      "d4b2a126f7f0427eae3d4d7369aa27d7",
      "c67008e22cbe42a3ba5df23f4b693e74",
      "8dc356d98e9c47338b040810a9e25c79",
      "4a0bca71d7c24a11862e92c634f3279b"
     ]
    },
    "executionInfo": {
     "elapsed": 509,
     "status": "ok",
     "timestamp": 1746832640470,
     "user": {
      "displayName": "Omi Goog",
      "userId": "07611855531462508215"
     },
     "user_tz": -60
    },
    "id": "cW9ARa5ZUtq9",
    "outputId": "15ddffe2-a2cb-430a-f519-d506537f4959"
   },
   "outputs": [],
   "source": [
    "# Interactive plotting function\n",
    "def plot_heatmap(value):\n",
    "    # Set up grid parameters\n",
    "    initiative_range = range(1, 11)\n",
    "    strength_range = range(1, 11)\n",
    "    heatmap = np.zeros((len(strength_range), len(initiative_range)))\n",
    "\n",
    "    # Run simulations across the grid\n",
    "    for i, strength in enumerate(strength_range):\n",
    "        for j, initiative in enumerate(initiative_range):\n",
    "            heatmap[i, j] = monte_carlo_simulation(initiative=initiative, strength=strength, armour=value, trials=100)\n",
    "\n",
    "    # Plot the heatmap\n",
    "    plt.figure(figsize=(10, 8))\n",
    "    plt.imshow(heatmap, origin='lower', aspect='auto', cmap='viridis', extent=[1, 11, 1, 11], vmin=0, vmax=100)\n",
    "    plt.colorbar(label='Percentage of times result is 0')\n",
    "    plt.xlabel('Initiative')\n",
    "    plt.ylabel('Strength')\n",
    "    plt.show()\n",
    "\n",
    "# Create the interactive slider\n",
    "interact(plot_heatmap, value=IntSlider(min=1, max=20, step=1, value=5, description='Initiative'));"
   ]
  },
  {
   "cell_type": "code",
   "execution_count": null,
   "metadata": {
    "colab": {
     "base_uri": "https://localhost:8080/",
     "height": 733,
     "referenced_widgets": [
      "212c48cc39fb484aba8ffefe38578057",
      "c57be9a1f5f240af8ca9a13826e8355c",
      "8aa9829c068d44e3a0d903b00f7e0cbe",
      "cf881eebc3124dfcb46ff9f24bef6607",
      "38c1a99524fe441f8f4ef6d101b39829",
      "b5908b005e8042a39178fd2643ec37db",
      "d487f1f63b5d48e09dbb41109c25f009"
     ]
    },
    "executionInfo": {
     "elapsed": 498,
     "status": "ok",
     "timestamp": 1746832635550,
     "user": {
      "displayName": "Omi Goog",
      "userId": "07611855531462508215"
     },
     "user_tz": -60
    },
    "id": "Y_rdS6dfUV-u",
    "outputId": "ab912162-ddd2-4f55-a7b7-a5fe067d4a8a"
   },
   "outputs": [],
   "source": [
    "# Interactive plotting function\n",
    "def plot_heatmap(value):\n",
    "    # Set up grid parameters\n",
    "    armour_range = range(1, 11)\n",
    "    strength_range = range(1, 11)\n",
    "    heatmap = np.zeros((len(strength_range), len(armour_range)))\n",
    "\n",
    "    # Run simulations across the grid\n",
    "    for i, strength in enumerate(strength_range):\n",
    "        for j, armour in enumerate(armour_range):\n",
    "            heatmap[i, j] = monte_carlo_simulation(initiative=value, strength=strength, armour=armour, trials=100)\n",
    "\n",
    "    # Plot the heatmap\n",
    "    plt.figure(figsize=(10, 8))\n",
    "    plt.imshow(heatmap, origin='lower', aspect='auto', cmap='viridis', extent=[1, 11, 1, 11], vmin=0, vmax=100)\n",
    "    plt.colorbar(label='Percentage of times result is 0')\n",
    "    plt.xlabel('Armour')\n",
    "    plt.ylabel('Strength')\n",
    "    plt.show()\n",
    "\n",
    "# Create the interactive slider\n",
    "interact(plot_heatmap, value=IntSlider(min=1, max=10, step=1, value=5, description='Initiative'));"
   ]
  }
 ],
 "metadata": {
  "colab": {
   "authorship_tag": "ABX9TyNmgBxw+wEJwqo3PoaUMQvb",
   "provenance": []
  },
  "kernelspec": {
   "display_name": "Python 3",
   "name": "python3"
  },
  "language_info": {
   "codemirror_mode": {
    "name": "ipython",
    "version": 3
   },
   "file_extension": ".py",
   "mimetype": "text/x-python",
   "name": "python",
   "nbconvert_exporter": "python",
   "pygments_lexer": "ipython3",
   "version": "3.13.3"
  },
  "widgets": {
   "application/vnd.jupyter.widget-state+json": {
    "0e0cf46ac4594224809466f7764cf42f": {
     "model_module": "@jupyter-widgets/output",
     "model_module_version": "1.0.0",
     "model_name": "OutputModel",
     "state": {
      "_dom_classes": [],
      "_model_module": "@jupyter-widgets/output",
      "_model_module_version": "1.0.0",
      "_model_name": "OutputModel",
      "_view_count": null,
      "_view_module": "@jupyter-widgets/output",
      "_view_module_version": "1.0.0",
      "_view_name": "OutputView",
      "layout": "IPY_MODEL_4a0bca71d7c24a11862e92c634f3279b",
      "msg_id": "",
      "outputs": [
       {
        "data": {
         "image/png": "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\n",
         "text/plain": "<Figure size 1000x800 with 2 Axes>"
        },
        "metadata": {},
        "output_type": "display_data"
       }
      ]
     }
    },
    "212c48cc39fb484aba8ffefe38578057": {
     "model_module": "@jupyter-widgets/controls",
     "model_module_version": "1.5.0",
     "model_name": "VBoxModel",
     "state": {
      "_dom_classes": [
       "widget-interact"
      ],
      "_model_module": "@jupyter-widgets/controls",
      "_model_module_version": "1.5.0",
      "_model_name": "VBoxModel",
      "_view_count": null,
      "_view_module": "@jupyter-widgets/controls",
      "_view_module_version": "1.5.0",
      "_view_name": "VBoxView",
      "box_style": "",
      "children": [
       "IPY_MODEL_c57be9a1f5f240af8ca9a13826e8355c",
       "IPY_MODEL_8aa9829c068d44e3a0d903b00f7e0cbe"
      ],
      "layout": "IPY_MODEL_cf881eebc3124dfcb46ff9f24bef6607"
     }
    },
    "38c1a99524fe441f8f4ef6d101b39829": {
     "model_module": "@jupyter-widgets/base",
     "model_module_version": "1.2.0",
     "model_name": "LayoutModel",
     "state": {
      "_model_module": "@jupyter-widgets/base",
      "_model_module_version": "1.2.0",
      "_model_name": "LayoutModel",
      "_view_count": null,
      "_view_module": "@jupyter-widgets/base",
      "_view_module_version": "1.2.0",
      "_view_name": "LayoutView",
      "align_content": null,
      "align_items": null,
      "align_self": null,
      "border": null,
      "bottom": null,
      "display": null,
      "flex": null,
      "flex_flow": null,
      "grid_area": null,
      "grid_auto_columns": null,
      "grid_auto_flow": null,
      "grid_auto_rows": null,
      "grid_column": null,
      "grid_gap": null,
      "grid_row": null,
      "grid_template_areas": null,
      "grid_template_columns": null,
      "grid_template_rows": null,
      "height": null,
      "justify_content": null,
      "justify_items": null,
      "left": null,
      "margin": null,
      "max_height": null,
      "max_width": null,
      "min_height": null,
      "min_width": null,
      "object_fit": null,
      "object_position": null,
      "order": null,
      "overflow": null,
      "overflow_x": null,
      "overflow_y": null,
      "padding": null,
      "right": null,
      "top": null,
      "visibility": null,
      "width": null
     }
    },
    "4a0bca71d7c24a11862e92c634f3279b": {
     "model_module": "@jupyter-widgets/base",
     "model_module_version": "1.2.0",
     "model_name": "LayoutModel",
     "state": {
      "_model_module": "@jupyter-widgets/base",
      "_model_module_version": "1.2.0",
      "_model_name": "LayoutModel",
      "_view_count": null,
      "_view_module": "@jupyter-widgets/base",
      "_view_module_version": "1.2.0",
      "_view_name": "LayoutView",
      "align_content": null,
      "align_items": null,
      "align_self": null,
      "border": null,
      "bottom": null,
      "display": null,
      "flex": null,
      "flex_flow": null,
      "grid_area": null,
      "grid_auto_columns": null,
      "grid_auto_flow": null,
      "grid_auto_rows": null,
      "grid_column": null,
      "grid_gap": null,
      "grid_row": null,
      "grid_template_areas": null,
      "grid_template_columns": null,
      "grid_template_rows": null,
      "height": null,
      "justify_content": null,
      "justify_items": null,
      "left": null,
      "margin": null,
      "max_height": null,
      "max_width": null,
      "min_height": null,
      "min_width": null,
      "object_fit": null,
      "object_position": null,
      "order": null,
      "overflow": null,
      "overflow_x": null,
      "overflow_y": null,
      "padding": null,
      "right": null,
      "top": null,
      "visibility": null,
      "width": null
     }
    },
    "690a67dc1d564dd8b8747246ec637544": {
     "model_module": "@jupyter-widgets/controls",
     "model_module_version": "1.5.0",
     "model_name": "VBoxModel",
     "state": {
      "_dom_classes": [
       "widget-interact"
      ],
      "_model_module": "@jupyter-widgets/controls",
      "_model_module_version": "1.5.0",
      "_model_name": "VBoxModel",
      "_view_count": null,
      "_view_module": "@jupyter-widgets/controls",
      "_view_module_version": "1.5.0",
      "_view_name": "VBoxView",
      "box_style": "",
      "children": [
       "IPY_MODEL_9ae239814f0741518965abd4333b9426",
       "IPY_MODEL_0e0cf46ac4594224809466f7764cf42f"
      ],
      "layout": "IPY_MODEL_d4b2a126f7f0427eae3d4d7369aa27d7"
     }
    },
    "8aa9829c068d44e3a0d903b00f7e0cbe": {
     "model_module": "@jupyter-widgets/output",
     "model_module_version": "1.0.0",
     "model_name": "OutputModel",
     "state": {
      "_dom_classes": [],
      "_model_module": "@jupyter-widgets/output",
      "_model_module_version": "1.0.0",
      "_model_name": "OutputModel",
      "_view_count": null,
      "_view_module": "@jupyter-widgets/output",
      "_view_module_version": "1.0.0",
      "_view_name": "OutputView",
      "layout": "IPY_MODEL_d487f1f63b5d48e09dbb41109c25f009",
      "msg_id": "",
      "outputs": [
       {
        "data": {
         "image/png": "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\n",
         "text/plain": "<Figure size 1000x800 with 2 Axes>"
        },
        "metadata": {},
        "output_type": "display_data"
       }
      ]
     }
    },
    "8dc356d98e9c47338b040810a9e25c79": {
     "model_module": "@jupyter-widgets/controls",
     "model_module_version": "1.5.0",
     "model_name": "SliderStyleModel",
     "state": {
      "_model_module": "@jupyter-widgets/controls",
      "_model_module_version": "1.5.0",
      "_model_name": "SliderStyleModel",
      "_view_count": null,
      "_view_module": "@jupyter-widgets/base",
      "_view_module_version": "1.2.0",
      "_view_name": "StyleView",
      "description_width": "",
      "handle_color": null
     }
    },
    "9ae239814f0741518965abd4333b9426": {
     "model_module": "@jupyter-widgets/controls",
     "model_module_version": "1.5.0",
     "model_name": "IntSliderModel",
     "state": {
      "_dom_classes": [],
      "_model_module": "@jupyter-widgets/controls",
      "_model_module_version": "1.5.0",
      "_model_name": "IntSliderModel",
      "_view_count": null,
      "_view_module": "@jupyter-widgets/controls",
      "_view_module_version": "1.5.0",
      "_view_name": "IntSliderView",
      "continuous_update": true,
      "description": "Initiative",
      "description_tooltip": null,
      "disabled": false,
      "layout": "IPY_MODEL_c67008e22cbe42a3ba5df23f4b693e74",
      "max": 20,
      "min": 1,
      "orientation": "horizontal",
      "readout": true,
      "readout_format": "d",
      "step": 1,
      "style": "IPY_MODEL_8dc356d98e9c47338b040810a9e25c79",
      "value": 5
     }
    },
    "b5908b005e8042a39178fd2643ec37db": {
     "model_module": "@jupyter-widgets/controls",
     "model_module_version": "1.5.0",
     "model_name": "SliderStyleModel",
     "state": {
      "_model_module": "@jupyter-widgets/controls",
      "_model_module_version": "1.5.0",
      "_model_name": "SliderStyleModel",
      "_view_count": null,
      "_view_module": "@jupyter-widgets/base",
      "_view_module_version": "1.2.0",
      "_view_name": "StyleView",
      "description_width": "",
      "handle_color": null
     }
    },
    "c57be9a1f5f240af8ca9a13826e8355c": {
     "model_module": "@jupyter-widgets/controls",
     "model_module_version": "1.5.0",
     "model_name": "IntSliderModel",
     "state": {
      "_dom_classes": [],
      "_model_module": "@jupyter-widgets/controls",
      "_model_module_version": "1.5.0",
      "_model_name": "IntSliderModel",
      "_view_count": null,
      "_view_module": "@jupyter-widgets/controls",
      "_view_module_version": "1.5.0",
      "_view_name": "IntSliderView",
      "continuous_update": true,
      "description": "Initiative",
      "description_tooltip": null,
      "disabled": false,
      "layout": "IPY_MODEL_38c1a99524fe441f8f4ef6d101b39829",
      "max": 10,
      "min": 1,
      "orientation": "horizontal",
      "readout": true,
      "readout_format": "d",
      "step": 1,
      "style": "IPY_MODEL_b5908b005e8042a39178fd2643ec37db",
      "value": 8
     }
    },
    "c67008e22cbe42a3ba5df23f4b693e74": {
     "model_module": "@jupyter-widgets/base",
     "model_module_version": "1.2.0",
     "model_name": "LayoutModel",
     "state": {
      "_model_module": "@jupyter-widgets/base",
      "_model_module_version": "1.2.0",
      "_model_name": "LayoutModel",
      "_view_count": null,
      "_view_module": "@jupyter-widgets/base",
      "_view_module_version": "1.2.0",
      "_view_name": "LayoutView",
      "align_content": null,
      "align_items": null,
      "align_self": null,
      "border": null,
      "bottom": null,
      "display": null,
      "flex": null,
      "flex_flow": null,
      "grid_area": null,
      "grid_auto_columns": null,
      "grid_auto_flow": null,
      "grid_auto_rows": null,
      "grid_column": null,
      "grid_gap": null,
      "grid_row": null,
      "grid_template_areas": null,
      "grid_template_columns": null,
      "grid_template_rows": null,
      "height": null,
      "justify_content": null,
      "justify_items": null,
      "left": null,
      "margin": null,
      "max_height": null,
      "max_width": null,
      "min_height": null,
      "min_width": null,
      "object_fit": null,
      "object_position": null,
      "order": null,
      "overflow": null,
      "overflow_x": null,
      "overflow_y": null,
      "padding": null,
      "right": null,
      "top": null,
      "visibility": null,
      "width": null
     }
    },
    "cf881eebc3124dfcb46ff9f24bef6607": {
     "model_module": "@jupyter-widgets/base",
     "model_module_version": "1.2.0",
     "model_name": "LayoutModel",
     "state": {
      "_model_module": "@jupyter-widgets/base",
      "_model_module_version": "1.2.0",
      "_model_name": "LayoutModel",
      "_view_count": null,
      "_view_module": "@jupyter-widgets/base",
      "_view_module_version": "1.2.0",
      "_view_name": "LayoutView",
      "align_content": null,
      "align_items": null,
      "align_self": null,
      "border": null,
      "bottom": null,
      "display": null,
      "flex": null,
      "flex_flow": null,
      "grid_area": null,
      "grid_auto_columns": null,
      "grid_auto_flow": null,
      "grid_auto_rows": null,
      "grid_column": null,
      "grid_gap": null,
      "grid_row": null,
      "grid_template_areas": null,
      "grid_template_columns": null,
      "grid_template_rows": null,
      "height": null,
      "justify_content": null,
      "justify_items": null,
      "left": null,
      "margin": null,
      "max_height": null,
      "max_width": null,
      "min_height": null,
      "min_width": null,
      "object_fit": null,
      "object_position": null,
      "order": null,
      "overflow": null,
      "overflow_x": null,
      "overflow_y": null,
      "padding": null,
      "right": null,
      "top": null,
      "visibility": null,
      "width": null
     }
    },
    "d487f1f63b5d48e09dbb41109c25f009": {
     "model_module": "@jupyter-widgets/base",
     "model_module_version": "1.2.0",
     "model_name": "LayoutModel",
     "state": {
      "_model_module": "@jupyter-widgets/base",
      "_model_module_version": "1.2.0",
      "_model_name": "LayoutModel",
      "_view_count": null,
      "_view_module": "@jupyter-widgets/base",
      "_view_module_version": "1.2.0",
      "_view_name": "LayoutView",
      "align_content": null,
      "align_items": null,
      "align_self": null,
      "border": null,
      "bottom": null,
      "display": null,
      "flex": null,
      "flex_flow": null,
      "grid_area": null,
      "grid_auto_columns": null,
      "grid_auto_flow": null,
      "grid_auto_rows": null,
      "grid_column": null,
      "grid_gap": null,
      "grid_row": null,
      "grid_template_areas": null,
      "grid_template_columns": null,
      "grid_template_rows": null,
      "height": null,
      "justify_content": null,
      "justify_items": null,
      "left": null,
      "margin": null,
      "max_height": null,
      "max_width": null,
      "min_height": null,
      "min_width": null,
      "object_fit": null,
      "object_position": null,
      "order": null,
      "overflow": null,
      "overflow_x": null,
      "overflow_y": null,
      "padding": null,
      "right": null,
      "top": null,
      "visibility": null,
      "width": null
     }
    },
    "d4b2a126f7f0427eae3d4d7369aa27d7": {
     "model_module": "@jupyter-widgets/base",
     "model_module_version": "1.2.0",
     "model_name": "LayoutModel",
     "state": {
      "_model_module": "@jupyter-widgets/base",
      "_model_module_version": "1.2.0",
      "_model_name": "LayoutModel",
      "_view_count": null,
      "_view_module": "@jupyter-widgets/base",
      "_view_module_version": "1.2.0",
      "_view_name": "LayoutView",
      "align_content": null,
      "align_items": null,
      "align_self": null,
      "border": null,
      "bottom": null,
      "display": null,
      "flex": null,
      "flex_flow": null,
      "grid_area": null,
      "grid_auto_columns": null,
      "grid_auto_flow": null,
      "grid_auto_rows": null,
      "grid_column": null,
      "grid_gap": null,
      "grid_row": null,
      "grid_template_areas": null,
      "grid_template_columns": null,
      "grid_template_rows": null,
      "height": null,
      "justify_content": null,
      "justify_items": null,
      "left": null,
      "margin": null,
      "max_height": null,
      "max_width": null,
      "min_height": null,
      "min_width": null,
      "object_fit": null,
      "object_position": null,
      "order": null,
      "overflow": null,
      "overflow_x": null,
      "overflow_y": null,
      "padding": null,
      "right": null,
      "top": null,
      "visibility": null,
      "width": null
     }
    }
   }
  }
 },
 "nbformat": 4,
 "nbformat_minor": 0
}
